{
 "cells": [
  {
   "cell_type": "code",
   "execution_count": null,
   "id": "140b8e21",
   "metadata": {},
   "outputs": [],
   "source": [
    "# Jupyter Notebook Cell 1: Setup\n",
    "import pandas as pd\n",
    "import seaborn as sns\n",
    "import matplotlib.pyplot as plt\n",
    "from scipy.stats import chi2_contingency, ttest_ind\n",
    "\n",
    "# Load data\n",
    "DATA_PATH = \"../data/MachineLearningRating_v3.txt\"\n",
    "df = pd.read_csv(DATA_PATH, sep='|', low_memory=False)\n",
    "\n",
    "# Preprocessing\n",
    "df['HasClaim'] = df['TotalClaims'] > 0\n",
    "df['ClaimSeverity'] = df.loc[df['HasClaim'], 'TotalClaims']\n",
    "df['Margin'] = df['TotalPremium'] - df['TotalClaims']\n"
   ]
  },
  {
   "cell_type": "code",
   "execution_count": null,
   "id": "d40a53ac",
   "metadata": {},
   "outputs": [],
   "source": [
    "# Cell 2: Claim Frequency by Province (Chi-Squared)\n",
    "ct_prov = pd.crosstab(df['Province'], df['HasClaim'])\n",
    "chi2, p_prov, _, _ = chi2_contingency(ct_prov)\n",
    "print(f\"Chi-Squared Test (Province): p = {p_prov:.4f}\")\n",
    "\n",
    "sns.barplot(data=ct_prov.div(ct_prov.sum(axis=1), axis=0).reset_index(),\n",
    "            x='Province', y=True)\n",
    "plt.title(\"Claim Frequency by Province\")\n",
    "plt.ylabel(\"Proportion with Claim\")\n",
    "plt.xticks(rotation=45)\n",
    "plt.tight_layout()\n",
    "plt.show()\n"
   ]
  },
  {
   "cell_type": "code",
   "execution_count": null,
   "id": "6396187f",
   "metadata": {},
   "outputs": [],
   "source": [
    "# Cell 3: Claim Frequency by Postal Code (Chi-Squared)\n",
    "ct_postal = pd.crosstab(df['PostalCode'], df['HasClaim'])\n",
    "chi2, p_postal, _, _ = chi2_contingency(ct_postal)\n",
    "print(f\"Chi-Squared Test (Postal Code): p = {p_postal:.4f}\")\n"
   ]
  },
  {
   "cell_type": "code",
   "execution_count": null,
   "id": "c200a104",
   "metadata": {},
   "outputs": [],
   "source": [
    "# Cell 4: Margin Difference Between Two Postal Codes (T-Test)\n",
    "postal_codes = df['PostalCode'].dropna().unique()\n",
    "if len(postal_codes) >= 2:\n",
    "    pc1, pc2 = postal_codes[0], postal_codes[1]\n",
    "    margin1 = df[df['PostalCode'] == pc1]['Margin'].dropna()\n",
    "    margin2 = df[df['PostalCode'] == pc2]['Margin'].dropna()\n",
    "    t_stat, p_margin = ttest_ind(margin1, margin2, equal_var=False)\n",
    "    print(f\"T-Test Margin {pc1} vs {pc2}: p = {p_margin:.4f}\")\n",
    "    \n",
    "    sns.boxplot(data=df[df['PostalCode'].isin([pc1, pc2])], x='PostalCode', y='Margin')\n",
    "    plt.title(f\"Margin Comparison: {pc1} vs {pc2}\")\n",
    "    plt.show()\n",
    "else:\n",
    "    print(\"Not enough postal codes for margin comparison.\")\n"
   ]
  },
  {
   "cell_type": "code",
   "execution_count": null,
   "id": "a5277534",
   "metadata": {},
   "outputs": [],
   "source": [
    "# Cell 5: Claim Frequency by Gender\n",
    "ct_gender = pd.crosstab(df['Gender'], df['HasClaim'])\n",
    "chi2, p_gender, _, _ = chi2_contingency(ct_gender)\n",
    "print(f\"Chi-Squared Test (Gender): p = {p_gender:.4f}\")\n",
    "\n",
    "sns.barplot(data=ct_gender.div(ct_gender.sum(axis=1), axis=0).reset_index(),\n",
    "            x='Gender', y=True)\n",
    "plt.title(\"Claim Frequency by Gender\")\n",
    "plt.ylabel(\"Proportion with Claim\")\n",
    "plt.show()\n"
   ]
  },
  {
   "cell_type": "code",
   "execution_count": null,
   "id": "8009b482",
   "metadata": {},
   "outputs": [],
   "source": [
    "# Cell 6: Summary & Interpretation\n",
    "print(\"🔍 Statistical Results:\")\n",
    "print(f\"Province - Claim Frequency: {'Reject H₀' if p_prov < 0.05 else 'Fail to reject H₀'} (p = {p_prov:.4f})\")\n",
    "print(f\"PostalCode - Claim Frequency: {'Reject H₀' if p_postal < 0.05 else 'Fail to reject H₀'} (p = {p_postal:.4f})\")\n",
    "print(f\"PostalCode - Margin: {'Reject H₀' if 'p_margin' in locals() and p_margin < 0.05 else 'Fail to reject H₀'}\")\n",
    "print(f\"Gender - Claim Frequency: {'Reject H₀' if p_gender < 0.05 else 'Fail to reject H₀'} (p = {p_gender:.4f})\")\n"
   ]
  }
 ],
 "metadata": {
  "kernelspec": {
   "display_name": "Python 3",
   "language": "python",
   "name": "python3"
  },
  "language_info": {
   "codemirror_mode": {
    "name": "ipython",
    "version": 3
   },
   "file_extension": ".py",
   "mimetype": "text/x-python",
   "name": "python",
   "nbconvert_exporter": "python",
   "pygments_lexer": "ipython3",
   "version": "3.13.0"
  }
 },
 "nbformat": 4,
 "nbformat_minor": 5
}
