{
 "cells": [
  {
   "cell_type": "code",
   "execution_count": null,
   "id": "536dacf0",
   "metadata": {},
   "outputs": [],
   "source": [
    "import scripts.eda\n",
    "print(dir(scripts.eda))\n"
   ]
  },
  {
   "cell_type": "code",
   "execution_count": null,
   "id": "0014157b",
   "metadata": {},
   "outputs": [],
   "source": [
    "import sys\n",
    "sys.path.append('/Users/tagesehandiso/insurance_analytics/scripts')\n"
   ]
  },
  {
   "cell_type": "code",
   "execution_count": null,
   "id": "d795cf18",
   "metadata": {},
   "outputs": [],
   "source": [
    "# Cell 1 - Set up Python path to import from scripts\n",
    "import sys\n",
    "sys.path.append(\"..\")\n",
    "\n",
    "# Optional: Auto-reload modules while editing\n",
    "%load_ext autoreload\n",
    "%autoreload 2\n",
    "\n"
   ]
  },
  {
   "cell_type": "code",
   "execution_count": null,
   "id": "c4ab9cbc",
   "metadata": {},
   "outputs": [],
   "source": [
    "# Cell 2 - Import required libraries and functions\n",
    "import pandas as pd\n",
    "import matplotlib.pyplot as plt\n",
    "import seaborn as sns\n",
    "import sys\n",
    "sys.path.append('/Users/tagesehandiso/insurance_analytics/scripts')\n",
    "from scripts.data_loader import load_data\n",
    "from scripts.eda import run_basic_eda, plot_distributions, plot_correlation_matrix\n",
    "\n"
   ]
  },
  {
   "cell_type": "code",
   "execution_count": null,
   "id": "12df6512",
   "metadata": {},
   "outputs": [],
   "source": [
    "file_path = \"/Users/tagesehandiso/insurance_analytics/data/MachineLearningRating_v3.txt\"\n",
    "df = load_data(file_path)\n",
    "df.head()\n",
    "\n"
   ]
  },
  {
   "cell_type": "code",
   "execution_count": null,
   "id": "c5daf1ad",
   "metadata": {},
   "outputs": [],
   "source": [
    "# Cell 4 - Run basic EDA summaries\n",
    "run_basic_eda(df)\n"
   ]
  },
  {
   "cell_type": "code",
   "execution_count": null,
   "id": "c18fbd70",
   "metadata": {},
   "outputs": [],
   "source": [
    "# Cell 5 - Plot distributions of key numerical features\n",
    "features_to_plot = [\"TotalPremium\", \"TotalClaims\", \"CustomValueEstimate\"]\n",
    "plot_distributions(df, features_to_plot)\n"
   ]
  },
  {
   "cell_type": "code",
   "execution_count": null,
   "id": "1f2a80bd",
   "metadata": {},
   "outputs": [],
   "source": [
    "# Cell 6 - Check correlation among important numerical columns\n",
    "correlation_features = [\"TotalPremium\", \"TotalClaims\", \"CustomValueEstimate\"]\n",
    "plot_correlation_matrix(df, correlation_features)\n",
    "\n"
   ]
  },
  {
   "cell_type": "code",
   "execution_count": null,
   "id": "92cd8612",
   "metadata": {},
   "outputs": [],
   "source": [
    "# Cell 7 - Extra: Explore loss ratio by province\n",
    "df[\"LossRatio\"] = df[\"TotalClaims\"] / (df[\"TotalPremium\"] + 1e-6)\n",
    "loss_ratio_by_province = df.groupby(\"Province\")[\"LossRatio\"].mean().sort_values(ascending=False)\n",
    "\n",
    "plt.figure(figsize=(10, 5))\n",
    "sns.barplot(x=loss_ratio_by_province.index, y=loss_ratio_by_province.values)\n",
    "plt.xticks(rotation=45)\n",
    "plt.title(\"Average Loss Ratio by Province\")\n",
    "plt.ylabel(\"Loss Ratio\")\n",
    "plt.show()\n"
   ]
  },
  {
   "cell_type": "code",
   "execution_count": null,
   "id": "cf871e17",
   "metadata": {},
   "outputs": [],
   "source": [
    "# Cell 8 - Extra: Explore claims by gender\n",
    "claims_by_gender = df.groupby(\"Gender\")[[\"TotalPremium\", \"TotalClaims\"]].mean()\n",
    "claims_by_gender[\"LossRatio\"] = claims_by_gender[\"TotalClaims\"] / (claims_by_gender[\"TotalPremium\"] + 1e-6)\n",
    "\n",
    "claims_by_gender.plot(kind=\"bar\", figsize=(8, 5), title=\"Claims by Gender\")\n",
    "plt.xticks(rotation=0)\n",
    "plt.show()\n"
   ]
  }
 ],
 "metadata": {
  "kernelspec": {
   "display_name": "Python 3",
   "language": "python",
   "name": "python3"
  },
  "language_info": {
   "codemirror_mode": {
    "name": "ipython",
    "version": 3
   },
   "file_extension": ".py",
   "mimetype": "text/x-python",
   "name": "python",
   "nbconvert_exporter": "python",
   "pygments_lexer": "ipython3",
   "version": "3.13.0"
  }
 },
 "nbformat": 4,
 "nbformat_minor": 5
}
